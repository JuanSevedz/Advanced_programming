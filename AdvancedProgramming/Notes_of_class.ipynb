{
  "cells": [
    {
      "cell_type": "markdown",
      "metadata": {
        "id": "BK3aFhOtnPny"
      },
      "source": [
        "```[bash]\n",
        "pip install ipython\n",
        "```\n"
      ]
    },
    {
      "cell_type": "code",
      "execution_count": null,
      "metadata": {
        "colab": {
          "base_uri": "https://localhost:8080/"
        },
        "id": "yMYo4DjllvLm",
        "outputId": "ef976e54-c9dd-4a0f-ba59-4eac7c0550f3"
      },
      "outputs": [],
      "source": [
        "# Create some random variables\n",
        "x = 5\n",
        "y = 'hello'\n",
        "z = False\n",
        "w = 3.14\n",
        "\n",
        "print(x, y, z, w)"
      ]
    },
    {
      "cell_type": "code",
      "execution_count": null,
      "metadata": {
        "colab": {
          "base_uri": "https://localhost:8080/"
        },
        "id": "LInhlvEtpNs_",
        "outputId": "2d0913df-ec3d-4a96-ba1b-1862f9af6cc5"
      },
      "outputs": [],
      "source": [
        "print(type(x), type(y), type(z), type(w))"
      ]
    },
    {
      "cell_type": "code",
      "execution_count": null,
      "metadata": {
        "colab": {
          "base_uri": "https://localhost:8080/"
        },
        "id": "P3iEHFaTqBZ3",
        "outputId": "e8ed2c8c-0800-4ff3-de96-bc7fec74e16c"
      },
      "outputs": [],
      "source": [
        "bool_2_integer = int(False)\n",
        "float_2_integer= int(w)\n",
        "print(bool_2_integer, float_2_integer)\n",
        "\n",
        "integer_2_string = str(1200300)\n",
        "string_2_integer =int('64')\n",
        "\n",
        "print(integer_2_string, string_2_integer)"
      ]
    },
    {
      "cell_type": "markdown",
      "metadata": {
        "id": "4L8Dl-3HrQSy"
      },
      "source": [
        "# Manejo De Strings\n"
      ]
    },
    {
      "cell_type": "code",
      "execution_count": null,
      "metadata": {
        "colab": {
          "base_uri": "https://localhost:8080/"
        },
        "id": "LKC65-9erODA",
        "outputId": "dba5b317-3c43-49d5-c356-8917bc82af97"
      },
      "outputs": [],
      "source": [
        "greeting = \"Hello, World!\"\n",
        "\n",
        "print(greeting[5],greeting[10],greeting[12],)\n",
        "print(f\"Size of greeting is: {len(greeting)}, and the value is: {greeting}\")# f para que sepa que va una varible"
      ]
    },
    {
      "cell_type": "markdown",
      "metadata": {
        "id": "mE0o69MJtCfe"
      },
      "source": [
        "## Slicing"
      ]
    },
    {
      "cell_type": "code",
      "execution_count": null,
      "metadata": {
        "colab": {
          "base_uri": "https://localhost:8080/"
        },
        "id": "sBEqv6EXtCI9",
        "outputId": "5ea6d320-9b4f-4fbe-fbd9-a900a9d02871"
      },
      "outputs": [],
      "source": [
        "word_1 = greeting[0:5]\n",
        "word_2 = greeting[7:12]\n",
        "print(word_1)\n",
        "print(word_2)\n",
        "print(f\"First word is: {word_1}, and the second one is: {word_2}\")"
      ]
    },
    {
      "cell_type": "code",
      "execution_count": null,
      "metadata": {
        "colab": {
          "base_uri": "https://localhost:8080/"
        },
        "id": "jb-HubhMtsVm",
        "outputId": "63445e03-b1bf-4e0a-ab1a-e7fa9f48c0bc"
      },
      "outputs": [],
      "source": [
        "#Inversa de la cadena\n",
        "reverse = greeting[::-1]\n",
        "print(reverse)\n",
        "print(reverse[-1])"
      ]
    },
    {
      "cell_type": "markdown",
      "metadata": {
        "id": "YwmVjx2LuOge"
      },
      "source": [
        "\n",
        "Aditional Funtions"
      ]
    },
    {
      "cell_type": "code",
      "execution_count": null,
      "metadata": {
        "colab": {
          "base_uri": "https://localhost:8080/"
        },
        "id": "hjLCrDZ9uRkN",
        "outputId": "4afe4ce9-78ce-4279-ef7c-f8856c1c6866"
      },
      "outputs": [],
      "source": [
        "sentence = \"Roses are red, and violets are blue\"\n",
        "print(sentence.split(' '))\n",
        "\n",
        "date=\"2024-Marzo-04\"\n",
        "print(date.split('-'))\n",
        "\n",
        "sentence_2 = \"     sjssjsjsjsjsj  jsjsjs    jsjs===================\"\n",
        "print(sentence_2)\n",
        "print(sentence_2.strip())\n",
        "print(sentence_2.strip('='))"
      ]
    },
    {
      "cell_type": "markdown",
      "metadata": {
        "id": "pPeXzZLovat3"
      },
      "source": [
        "Cómo to handle con minúsculas y mayúsculas?"
      ]
    },
    {
      "cell_type": "code",
      "execution_count": null,
      "metadata": {
        "colab": {
          "base_uri": "https://localhost:8080/"
        },
        "id": "T6__3dHbvjBG",
        "outputId": "dfac98f1-4681-4579-b04d-e707ee28698f"
      },
      "outputs": [],
      "source": [
        "test_sentence= \"This is A tEst of STrIng\"\n",
        "lower_ = test_sentence.lower()\n",
        "upper_ = test_sentence.upper()\n",
        "capitalize = test_sentence.capitalize()\n",
        "title_ = test_sentence.title()\n",
        "print(test_sentence, lower_, upper_, capitalize, title_,  sep=\"\\n\")# sep=\"\" para que a cada funcion se imprima con algo"
      ]
    },
    {
      "cell_type": "markdown",
      "metadata": {
        "id": "AL4ZOk_1weEn"
      },
      "source": [
        "## Conditionals\n",
        "\n",
        "A conditional is a validation of a logic statement\n"
      ]
    },
    {
      "cell_type": "code",
      "execution_count": null,
      "metadata": {
        "colab": {
          "base_uri": "https://localhost:8080/"
        },
        "id": "KxYqYjsexT79",
        "outputId": "8809ab9d-7e49-4edd-de84-27bd50bb03a9"
      },
      "outputs": [],
      "source": [
        "x = 3\n",
        "if x == 2:\n",
        "  x = 7\n",
        "  print(\"plah blah\")\n",
        "  print(\" x is 2\")\n",
        "else:\n",
        "  print(\"the other way\")\n"
      ]
    },
    {
      "cell_type": "markdown",
      "metadata": {
        "id": "A-dBwnr-yCnI"
      },
      "source": [
        "Nested conditionals:\n"
      ]
    },
    {
      "cell_type": "code",
      "execution_count": null,
      "metadata": {
        "colab": {
          "base_uri": "https://localhost:8080/"
        },
        "id": "opqN_7tiyFhe",
        "outputId": "beaeb288-410d-481d-95d4-9f00223d3a1c"
      },
      "outputs": [],
      "source": [
        "color = \"red\"\n",
        "if color == \"blue\":\n",
        "  x = 2\n",
        "  print(\"color is blue\")\n",
        "elif color == \" yellow\":\n",
        "  x = 5\n",
        "  print(\" color is yellow\")\n",
        "elif color == \"red\":\n",
        "  x= 8\n",
        "  print(\"color is red\")\n",
        "else:\n",
        "  x = -1\n",
        "  print(\"no color\")\n",
        "print(x)"
      ]
    },
    {
      "cell_type": "markdown",
      "metadata": {
        "id": "W0RepzpRhVC4"
      },
      "source": [
        "#Segunda Clase\n",
        "#####Segundo tipo de condicionales anidados\n"
      ]
    },
    {
      "cell_type": "code",
      "execution_count": null,
      "metadata": {
        "colab": {
          "base_uri": "https://localhost:8080/"
        },
        "id": "ItaD8o71j--_",
        "outputId": "188f5a0d-7541-4512-c1d8-a418cb11527e"
      },
      "outputs": [],
      "source": [
        "x = 4\n",
        "\n",
        "if x > 5:\n",
        "  if x >7:\n",
        "    x = 10\n",
        "\n",
        "    print(\"x is greater than 5 and 7\")\n",
        "\n",
        "  else:\n",
        "    print(\"x is less or equal than 7\")\n",
        "else:\n",
        "  print(\"x less than 5\")"
      ]
    },
    {
      "cell_type": "markdown",
      "metadata": {
        "id": "6C0oKEavlD0e"
      },
      "source": [
        "Lists and list comprehension and loops"
      ]
    },
    {
      "cell_type": "code",
      "execution_count": null,
      "metadata": {
        "colab": {
          "base_uri": "https://localhost:8080/"
        },
        "id": "hkdXr8IqlNIe",
        "outputId": "2a2ca837-17df-439d-922a-668a685563af"
      },
      "outputs": [],
      "source": [
        "list_exapmle = [2,\"carlos\", 'Programming', 3.2, True]\n",
        "print(list_exapmle, type(list_exapmle))\n",
        "\n",
        "list_exapmle.append(\"new element\")#sirve para añadir elementos a listas _importante_\n",
        "print(list_exapmle, type(list_exapmle))\n",
        "\n",
        "save=list_exapmle.pop(1)\n",
        "print(list_exapmle, type(list_exapmle))\n",
        "print(save)\n",
        "\n",
        "list_exapmle.insert(2, 'ud')\n",
        "print(list_exapmle, type(list_exapmle))#insertar nuevos elementos a la lista indicando en que posicion\n",
        "\n",
        "print(list_exapmle[3])\n",
        "\n",
        "#slicing\n",
        "print(list_exapmle[1:3])#Para sacer sublistas\n",
        "\n"
      ]
    },
    {
      "cell_type": "markdown",
      "metadata": {
        "id": "pMmAPeWJnk2u"
      },
      "source": [
        "Conditionals on list"
      ]
    },
    {
      "cell_type": "code",
      "execution_count": null,
      "metadata": {
        "colab": {
          "base_uri": "https://localhost:8080/"
        },
        "id": "W-80dld4nnE-",
        "outputId": "0b93e695-678a-4075-fbff-78eccc3206a3"
      },
      "outputs": [],
      "source": [
        "#Verificar si un dato esta\n",
        "if \"ud\" in list_exapmle:\n",
        "  print(\"element is\")\n",
        "else:\n",
        "  print(\"Element not in\")\n",
        "\n",
        "#Para verificar si un elemento no esta\n",
        "if \"Carlos\" not in list_exapmle:\n",
        "  print(\"element not in\")\n",
        "else:\n",
        "  print(\"Element is\")"
      ]
    },
    {
      "cell_type": "markdown",
      "metadata": {
        "id": "OdxXocqyoUyG"
      },
      "source": [
        "Loops with list"
      ]
    },
    {
      "cell_type": "code",
      "execution_count": null,
      "metadata": {
        "colab": {
          "base_uri": "https://localhost:8080/"
        },
        "id": "NmrUowaYoXYG",
        "outputId": "e3af75f8-f780-43f9-bbb9-fb623882b108"
      },
      "outputs": [],
      "source": [
        "print(len(list_exapmle))\n",
        "\n",
        "for elem in list_exapmle:\n",
        "  print(elem)\n"
      ]
    },
    {
      "cell_type": "code",
      "execution_count": null,
      "metadata": {
        "colab": {
          "base_uri": "https://localhost:8080/"
        },
        "id": "-AMJ1u_8qoz2",
        "outputId": "1c18cdd8-e2a1-407b-a510-c78bfe337952"
      },
      "outputs": [],
      "source": [
        "for elem in list_exapmle:\n",
        "    if type(elem) == str:\n",
        "      print(elem)"
      ]
    },
    {
      "cell_type": "code",
      "execution_count": null,
      "metadata": {
        "colab": {
          "base_uri": "https://localhost:8080/"
        },
        "id": "EO82FRKErGQd",
        "outputId": "99efee70-6c00-4be1-ba6b-506410b769ae"
      },
      "outputs": [],
      "source": [
        "list_numbers=[i for i in range (100)]\n",
        "print(list_numbers)\n",
        "\n",
        "list_numbers2=[i**2 for i in range(1,6)]\n",
        "print(list_numbers2)"
      ]
    },
    {
      "cell_type": "code",
      "execution_count": null,
      "metadata": {
        "colab": {
          "base_uri": "https://localhost:8080/"
        },
        "id": "MU9MN4XDsJyV",
        "outputId": "adb4d94e-e7f7-4909-e225-0f7bd187b150"
      },
      "outputs": [],
      "source": [
        "print(list(range(1,18,2)))\n",
        "print(list(range(2,51,2)))\n",
        "print(list(range(10,0,-1)))\n",
        "print(list(range(0,100,3)))"
      ]
    },
    {
      "cell_type": "markdown",
      "metadata": {
        "id": "BlH8a75Bfc6s"
      },
      "source": [
        "#Class 07/March/2024\n",
        "\n",
        "#####If we want to do the old form of \"for:for old men:\""
      ]
    },
    {
      "cell_type": "code",
      "execution_count": null,
      "metadata": {
        "colab": {
          "base_uri": "https://localhost:8080/"
        },
        "id": "Ag3U4KdogZqE",
        "outputId": "3a3634ec-d6c4-44fa-de7e-ac7a82d9144a"
      },
      "outputs": [],
      "source": [
        "for i in range (0,11):\n",
        "  print(i, end=\"-\")"
      ]
    },
    {
      "cell_type": "code",
      "execution_count": null,
      "metadata": {
        "id": "cOIToiUGgNN0"
      },
      "outputs": [],
      "source": []
    },
    {
      "cell_type": "markdown",
      "metadata": {
        "id": "02VbAAvMhGrL"
      },
      "source": [
        "##While"
      ]
    },
    {
      "cell_type": "code",
      "execution_count": null,
      "metadata": {
        "colab": {
          "base_uri": "https://localhost:8080/"
        },
        "id": "2ydbeC3vhIrc",
        "outputId": "5855a455-a663-47d4-80f5-4b85d7a587e4"
      },
      "outputs": [],
      "source": [
        "while True:\n",
        "  word=input()\n",
        "  if  word == \"quit\":\n",
        "    break\n",
        "  else:\n",
        "    print(word)\n"
      ]
    },
    {
      "cell_type": "markdown",
      "metadata": {
        "id": "HKEz2lvpiR2D"
      },
      "source": [
        "#Dictionaries\n",
        "KEY-VALUE data struture\n",
        "{\n",
        "   key_1: value,\n",
        "   key_2: value,\n",
        "   ....\n",
        "}\n",
        "keys: string*, init, float, tuple\n",
        "Value: anything -> list, tuple, dictionary, data type\n",
        "\n",
        "##How to wor with it?"
      ]
    },
    {
      "cell_type": "code",
      "execution_count": null,
      "metadata": {
        "colab": {
          "base_uri": "https://localhost:8080/"
        },
        "id": "DQQtWnT_j9xj",
        "outputId": "2ec9a8cd-7105-442c-889e-0257fee6cdc6"
      },
      "outputs": [],
      "source": [
        "dict_example={\n",
        "    \"id\" : \"020-84\",\n",
        "    \"name\" : \"Advanced Programming I\",\n",
        "    \"amount\" : \"23\",\n",
        "    \"students\" : ['Juan', 'Christian', 'Carlos'],\n",
        "    701: \"class room\",\n",
        "}\n",
        "\n",
        "print(dict_example[\"students\"])\n",
        "print(dict_example[701])\n",
        "print(dict_example[\"students\"][1])#Para acceder al dato que quiero del diccionario, uso [], para accerer al dat que esta dentr del dato del diccionario, coloco un segundo []"
      ]
    },
    {
      "cell_type": "markdown",
      "metadata": {
        "id": "DucO5bJlltVL"
      },
      "source": [
        "Dictionaries Operations"
      ]
    },
    {
      "cell_type": "code",
      "execution_count": null,
      "metadata": {
        "colab": {
          "base_uri": "https://localhost:8080/"
        },
        "id": "rLwM3tYLlxkK",
        "outputId": "7e6c3b16-53cc-45b1-84ac-e858c83b205f"
      },
      "outputs": [],
      "source": [
        "#Verificar si la lista exist o no en el diccionario, si o esta, la cera, si ya existe, la actualiza\n",
        "dict_example[\"profesor\"] = \"Carlos Andres\"\n",
        "print(dict_example)\n",
        "\n",
        "dict_example[\"profesor\"] = \"Eng. CASV\"\n",
        "print(dict_example)"
      ]
    },
    {
      "cell_type": "code",
      "execution_count": null,
      "metadata": {
        "colab": {
          "base_uri": "https://localhost:8080/"
        },
        "id": "827zIPQlmSPS",
        "outputId": "85b845cf-0128-4a72-dbab-8409ce8c2e99"
      },
      "outputs": [],
      "source": [
        "#Borrar listas en el diccionario\n",
        "del dict_example[\"amount\"]\n",
        "print(dict_example)"
      ]
    },
    {
      "cell_type": "code",
      "execution_count": null,
      "metadata": {
        "id": "SN7EX-Y1phOh"
      },
      "outputs": [],
      "source": []
    },
    {
      "cell_type": "markdown",
      "metadata": {
        "id": "-SQQTpFSpfTy"
      },
      "source": [
        "Dictonaries and loops\n"
      ]
    },
    {
      "cell_type": "code",
      "execution_count": null,
      "metadata": {
        "colab": {
          "base_uri": "https://localhost:8080/"
        },
        "id": "m7qpv7V_phwS",
        "outputId": "2b9fa968-8f67-456b-c382-f763e70a8868"
      },
      "outputs": [],
      "source": [
        "for key in dict_example:\n",
        "  print(key, end=\" -\")\n",
        "print()\n",
        "\n",
        "for value in dict_example.values():\n",
        "  print(value, end='-')\n",
        "print()\n",
        "for key,value in dict_example.items():\n",
        "  print(f\"{key}-> {value}\")"
      ]
    },
    {
      "cell_type": "markdown",
      "metadata": {
        "id": "ZzeJniOMqrGJ"
      },
      "source": [
        "Más simple lo anterior sería...."
      ]
    },
    {
      "cell_type": "code",
      "execution_count": null,
      "metadata": {
        "colab": {
          "base_uri": "https://localhost:8080/"
        },
        "id": "wr1tqrpHqYAx",
        "outputId": "cff0692b-f0a9-4e7a-cbb3-c5a758539d74"
      },
      "outputs": [],
      "source": [
        "print(dict_example.keys())\n",
        "print(dict_example.values())\n",
        "print(dict_example.items())"
      ]
    },
    {
      "cell_type": "markdown",
      "metadata": {
        "id": "ND_GOCWqquhp"
      },
      "source": [
        "##Tuples and Sets\n",
        "Tuple: data structue (similar to list), but this one is inmutable\n",
        "Sets: data structue (similar to list) where elements are uniques"
      ]
    },
    {
      "cell_type": "code",
      "execution_count": null,
      "metadata": {
        "colab": {
          "base_uri": "https://localhost:8080/"
        },
        "id": "1xsikycnrAxA",
        "outputId": "2e389734-f5c4-4c8a-e103-5a585a0ecf00"
      },
      "outputs": [],
      "source": [
        "tuple_example=(\"str\", 3, 4.3)\n",
        "print(tuple_example[2])\n",
        "\n",
        "tuple_example2=(\"value\",)\n",
        "print(tuple_example2, type(tuple_example2))\n",
        "\n",
        "#convertir de tupla a lista\n",
        "tuple_2_list= list(tuple_example)\n",
        "print(tuple_2_list, type(tuple_2_list))"
      ]
    },
    {
      "cell_type": "code",
      "execution_count": null,
      "metadata": {
        "colab": {
          "base_uri": "https://localhost:8080/"
        },
        "id": "ygGu-xOMs7jJ",
        "outputId": "aaced94c-4c82-4159-fbd0-182d6e76646b"
      },
      "outputs": [],
      "source": [
        "#convertir de lista a diccinario\n",
        "list_example = [(\"key_1\", \"value_1\"), (\"key_2\",[1, 2, 3])]\n",
        "list_2_dict = dict(list_example)\n",
        "print(list_example, type(list_example))\n",
        "print(list_example[0], type(list_example[0]))\n",
        "print(list_2_dict, type(list_2_dict))"
      ]
    },
    {
      "cell_type": "code",
      "execution_count": null,
      "metadata": {
        "id": "om6bzW1HubTD"
      },
      "outputs": [],
      "source": [
        "##Sets/conjutos"
      ]
    },
    {
      "cell_type": "code",
      "execution_count": null,
      "metadata": {
        "colab": {
          "base_uri": "https://localhost:8080/"
        },
        "id": "A-M-_cNsudXB",
        "outputId": "2fa974fa-1b22-4a7b-b8c3-fdbc22bb6b08"
      },
      "outputs": [],
      "source": [
        "set_example={0, 2, 4, 6, 4, 3, 4, 2, 1}\n",
        "\n",
        "print(set_example, type(set_example))"
      ]
    },
    {
      "cell_type": "code",
      "execution_count": null,
      "metadata": {
        "colab": {
          "base_uri": "https://localhost:8080/"
        },
        "id": "LDAjXfBHu8SI",
        "outputId": "96c4a4f5-6967-4b9b-b7c2-f307b3a8e116"
      },
      "outputs": [],
      "source": [
        "list_=[4, 3, 2, 1, 4, 5, 6, 7, 5, 5, 4]\n",
        "\n",
        "print(list_, type(list_), len(list_))\n",
        "\n",
        "set_=set(list_)\n",
        "\n",
        "print(set_, type(set_), len(set_))\n"
      ]
    },
    {
      "cell_type": "code",
      "execution_count": null,
      "metadata": {
        "colab": {
          "base_uri": "https://localhost:8080/"
        },
        "id": "9o3Hte_-vj_Z",
        "outputId": "fbd25e07-5f08-428e-ad38-37c0a3fa945c"
      },
      "outputs": [],
      "source": [
        "for element in set_:\n",
        "  print(f\"{element} is {list_.count(element)} in list\")"
      ]
    },
    {
      "cell_type": "markdown",
      "metadata": {
        "id": "26xyMk7ZwL_Z"
      },
      "source": [
        "##Reference and Value Variables"
      ]
    },
    {
      "cell_type": "code",
      "execution_count": null,
      "metadata": {
        "colab": {
          "base_uri": "https://localhost:8080/"
        },
        "id": "jA_rsSShwQPY",
        "outputId": "4987661d-4dc4-4088-a2be-2bb908dc34c0"
      },
      "outputs": [],
      "source": [
        "list_a =[1,2,3]\n",
        "print(list_a)\n",
        "list_b=list_a #referencia\n",
        "print(list_b)\n",
        "list_a.extend([4, 5 , 7])\n",
        "print(list_b)"
      ]
    },
    {
      "cell_type": "code",
      "execution_count": null,
      "metadata": {
        "colab": {
          "base_uri": "https://localhost:8080/"
        },
        "id": "-nYvf6syx_nI",
        "outputId": "0cb550e7-f377-46d6-e000-211bab8161a0"
      },
      "outputs": [],
      "source": [
        "list_c=list_a.copy()#por valor, se guarda en otro espacio de memoria\n",
        "print(list_c)\n",
        "list_a.extend([8,9,10])\n",
        "print(list_a)\n",
        "print(list_c)"
      ]
    },
    {
      "cell_type": "markdown",
      "metadata": {
        "id": "iI89oUqEyikn"
      },
      "source": [
        "#Functions/funciones"
      ]
    },
    {
      "cell_type": "code",
      "execution_count": null,
      "metadata": {
        "colab": {
          "base_uri": "https://localhost:8080/"
        },
        "id": "uVrKaNjpymNf",
        "outputId": "febf2c59-09fe-4386-b6a1-0437c3fe8954"
      },
      "outputs": [],
      "source": [
        "\n",
        "def max(a, b):#e utiliza para encontrar el valor máximo entre dos o más elementos. Puedes usar max()\n",
        "  if a > b:\n",
        "    return a\n",
        "  else:\n",
        "    return a*b\n",
        "\n",
        "def sort_(a, b): #sort(se utiliza para ordenar elementos en una lista en su lugar)\n",
        "  if a < b:\n",
        "    return a\n",
        "  else:\n",
        "    return b, a\n",
        "\n",
        "\n",
        "x = 2\n",
        "y = 3\n",
        "print(max(x,y))\n",
        "print(sort_(x,y))\n"
      ]
    },
    {
      "cell_type": "markdown",
      "metadata": {
        "id": "JcJzQ4510tOf"
      },
      "source": [
        "#Documentación"
      ]
    },
    {
      "cell_type": "code",
      "execution_count": null,
      "metadata": {
        "id": "EkpWIC_Qhz13"
      },
      "outputs": [],
      "source": [
        "\"\"\"\n",
        "3 comillas dobles para hacer comentarios multilineas\n",
        "asi asa ase\n",
        "\n",
        "\"\"\""
      ]
    },
    {
      "cell_type": "markdown",
      "metadata": {
        "id": "C1ww07ANiwmR"
      },
      "source": [
        "#Class 11/03\n",
        "##Classes in python\n",
        "\n",
        "Basic Definition: `class name:`\n",
        "\n",
        "if there will be inheritance:\n",
        "`class name(mother_class)`\n",
        "\n",
        "Constructor: `__init__(self)`\n",
        "\n",
        "Method:`def method_name(self):`\n",
        "\n",
        "Nomenclature:\n",
        "\n",
        "Una raya al piso:`_a(protected)`, Dos Rayas al piso:`__a(private)`"
      ]
    },
    {
      "cell_type": "code",
      "execution_count": null,
      "metadata": {
        "id": "Ba0j5oyei1-Z"
      },
      "outputs": [],
      "source": [
        "class Mammal:\n",
        "  \"\"\"This is a generic class about mammals behaviours\n",
        "\n",
        "  Methods:\n",
        "  -sleep(): this method sets a mammal in sleep mode\n",
        "\n",
        "  \"\"\"\n",
        "\n",
        "  def __init__(self, age: float):\n",
        "    #Class attributes, así se definen `self.attribute`\n",
        "    self.hungry_level = None\n",
        "    self.sleep_level = None\n",
        "    self._weitght = None #_ indica-> Protegido\n",
        "    self.__age = age # __ indica -> Privado\n",
        "\n",
        "  def sleep(self):\n",
        "\n",
        "    print(\"zzz \" + str(self.__age))\n",
        "\n",
        "mammal_1 = Mammal(4.6)\n",
        "mammal_2 = Mammal(3.1)\n",
        "mammal_2.sleep()\n",
        "mammal_1.sleep()\n",
        "\n",
        "\n",
        "print(mammal_1.hungry_level)"
      ]
    },
    {
      "cell_type": "code",
      "execution_count": null,
      "metadata": {
        "id": "O3Idi0lfpnwi"
      },
      "outputs": [],
      "source": [
        "from abc import ABC, abstractmethod\n",
        "\n",
        "class LifeBeing(ABC):\n",
        "\n",
        "    @abstractmethod\n",
        "    def eat():\n",
        "        pass"
      ]
    },
    {
      "cell_type": "code",
      "execution_count": null,
      "metadata": {
        "colab": {
          "base_uri": "https://localhost:8080/"
        },
        "id": "-cwTFkw3oEXV",
        "outputId": "e2a9b681-2960-49eb-8ca3-f02c68442293"
      },
      "outputs": [],
      "source": [
        "class Dog(Mammal, LifeBeing):\n",
        "\n",
        "  def __init__(self, age):\n",
        "    super().__init__(age) # heredar el constructor de la superclase\n",
        "\n",
        "  def eat(self):\n",
        "    print(\"Yumi yumi\")\n",
        "\n",
        "freeoflice = Dog(2.5)\n",
        "freeoflice.sleep()\n",
        "freeoflice.eat()\n",
        "print(freeoflice._weitght,\"\\n\",freeoflice.sleep_level)"
      ]
    },
    {
      "cell_type": "markdown",
      "metadata": {
        "id": "-IlECLeU1lX2"
      },
      "source": [
        "Workshop\n"
      ]
    },
    {
      "cell_type": "code",
      "execution_count": null,
      "metadata": {
        "colab": {
          "base_uri": "https://localhost:8080/"
        },
        "id": "VdZ-twdl1nsf",
        "outputId": "785061f0-5f07-4c68-e76d-5dc2b25726e9"
      },
      "outputs": [],
      "source": [
        "class CatalogOfVehicles:\n",
        "    \"\"\"\n",
        "    Esto es un programa que crea un plataforma que contienen el catalogo de vehiculos\n",
        "\n",
        "    \"\"\"\n",
        "    def __init__(self):\n",
        "        self.engine =[1000, 2000, 10000, 150]\n",
        "        self.chasis = [1, 2, 3, 4]\n",
        "        self.model = [\"Sedán\", \"SUV\", \"Coupé\", \"Camioneta\"]\n",
        "\n",
        "        self.year =[2001, 2004, 2024, 2018]\n",
        "\n",
        "    def gas_consumption(self):\n",
        "        x = (1.1*self.engine) + (0.2*engine.wight)\n",
        "\n",
        "\n",
        "    def car(self):\n",
        "        pass\n",
        "\n",
        "\n",
        "    def truck(self):\n",
        "        pass\n",
        "\n",
        "    def yatch(self):\n",
        "        pass\n",
        "\n",
        "    def motorcycle(self):\n",
        "        pass\n",
        "print(x)"
      ]
    },
    {
      "cell_type": "markdown",
      "metadata": {},
      "source": [
        "#Unified Modeling Language (UML)\n",
        "\n",
        "UML, or Unified Modeling Language, is a standardized modeling language used in software engineering. It is designed to provide a way to visualize, specify, and document different aspects of a software system, including its structure, behavior, and architecture.\n",
        "\n",
        "UML consists of a set of graphic notation techniques that can be used to create various types of diagrams, such as class diagrams, sequence diagrams, state diagrams, and activity diagrams. These diagrams can help developers and stakeholders understand the system being built, identify potential design issues, and communicate more effectively about the system.\n",
        "\n",
        "Class diagrams are one of the most commonly used types of UML diagrams. They are used to represent the static structure of a system, including the classes, interfaces, and their relationships. Class diagrams typically include elements such as classes, interfaces, attributes, and methods.\n",
        "\n",
        "\n"
      ]
    },
    {
      "cell_type": "markdown",
      "metadata": {},
      "source": [
        "#03/04/24\n",
        "#Encapsulation"
      ]
    },
    {
      "cell_type": "code",
      "execution_count": 1,
      "metadata": {},
      "outputs": [],
      "source": [
        "import numpy as np\n",
        "\n",
        "class Student():\n",
        "\n",
        "    def __init__(self, name):\n",
        "        self.__name = None\n",
        "        self.__average = None\n",
        "        self.__max_grade = 10\n",
        "\n",
        "    def get_name(self, grant):\n",
        "        if grant == True:\n",
        "            return self.__name\n",
        "        else:\n",
        "            raise ValueError(\"You are not allowed to acces the name\")\n",
        "    \n",
        "    \n",
        "    def set_average(self, grades: list):\n",
        "        for grade in grades:\n",
        "            if grade < 0 or grade >self.__max_grade:\n",
        "                raise ValueError(\"Grade out of range.\")\n",
        "        \n",
        "        self.__average = np.mean(grades)\n",
        "\n",
        "    def win_scholarship(self,minimun_average):\n",
        "        \"\"\"\n",
        "        This funtion returns True if the student has an average grater than or equal than to minimu_average\n",
        "\n",
        "        Parameters:\n",
        "        -minimun_ average(float): the ....\n",
        "\n",
        "        Returns:\n",
        "        \n",
        "        \"\"\"\n",
        "        if self.__average >= minimun_average:\n",
        "            return True\n",
        "        else:\n",
        "            return False"
      ]
    }
  ],
  "metadata": {
    "colab": {
      "collapsed_sections": [
        "BlH8a75Bfc6s",
        "HKEz2lvpiR2D",
        "ND_GOCWqquhp",
        "26xyMk7ZwL_Z"
      ],
      "provenance": []
    },
    "kernelspec": {
      "display_name": "Python 3",
      "name": "python3"
    },
    "language_info": {
      "codemirror_mode": {
        "name": "ipython",
        "version": 3
      },
      "file_extension": ".py",
      "mimetype": "text/x-python",
      "name": "python",
      "nbconvert_exporter": "python",
      "pygments_lexer": "ipython3",
      "version": "3.11.5"
    }
  },
  "nbformat": 4,
  "nbformat_minor": 0
}
